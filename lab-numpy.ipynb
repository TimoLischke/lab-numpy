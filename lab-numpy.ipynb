{
 "cells": [
  {
   "cell_type": "code",
   "execution_count": 2,
   "id": "6d382de6-dfb5-4033-9690-5506bddbc025",
   "metadata": {},
   "outputs": [],
   "source": [
    "# Import the numpy package under the name `np`\n",
    "import numpy as np"
   ]
  },
  {
   "cell_type": "code",
   "execution_count": 6,
   "id": "17fa1a9b-6ec7-4dbc-ac6a-ca41c2b26b6e",
   "metadata": {},
   "outputs": [
    {
     "data": {
      "text/plain": [
       "array([[0., 0., 0., 0., 0., 0., 0., 0., 0., 0.]])"
      ]
     },
     "execution_count": 6,
     "metadata": {},
     "output_type": "execute_result"
    }
   ],
   "source": [
    "# Create a null vector of size 10\n",
    "nullvector = np.zeros((1,10))\n",
    "nullvector"
   ]
  },
  {
   "cell_type": "code",
   "execution_count": 18,
   "id": "f6d67ce3-f923-42a4-ab66-260872b9812b",
   "metadata": {},
   "outputs": [
    {
     "data": {
      "text/plain": [
       "array([[0., 0., 0., 0., 1., 0., 0., 0., 0., 0.]])"
      ]
     },
     "execution_count": 18,
     "metadata": {},
     "output_type": "execute_result"
    }
   ],
   "source": [
    "# Create a null vector of size 10 but the fifth value which is 1\n",
    "nullvector_1 = np.zeros((1,10))\n",
    "nullvector_1[0,4]=1\n",
    "nullvector_1"
   ]
  },
  {
   "cell_type": "code",
   "execution_count": 12,
   "id": "c90a81a7-19ff-4c00-8550-343afb171d8f",
   "metadata": {},
   "outputs": [
    {
     "data": {
      "text/plain": [
       "array([10, 11, 12, 13, 14, 15, 16, 17, 18, 19, 20, 21, 22, 23, 24, 25, 26,\n",
       "       27, 28, 29, 30, 31, 32, 33, 34, 35, 36, 37, 38, 39, 40, 41, 42, 43,\n",
       "       44, 45, 46, 47, 48, 49])"
      ]
     },
     "execution_count": 12,
     "metadata": {},
     "output_type": "execute_result"
    }
   ],
   "source": [
    "# Create a vector with values ranging from 10 to 49\n",
    "vector_49 = np.arange(10,50)\n",
    "vector_49"
   ]
  },
  {
   "cell_type": "code",
   "execution_count": 14,
   "id": "e6a3bea4-1ac1-400a-82f3-0caa69d5ca46",
   "metadata": {},
   "outputs": [
    {
     "data": {
      "text/plain": [
       "array([[0, 1, 2],\n",
       "       [3, 4, 5],\n",
       "       [6, 7, 8]])"
      ]
     },
     "execution_count": 14,
     "metadata": {},
     "output_type": "execute_result"
    }
   ],
   "source": [
    "# Create a 3x3 matrix with values ranging from 0 to 8\n",
    "matrix_3x3 = np.arange(0, 9).reshape((3, 3))\n",
    "matrix_3x3"
   ]
  },
  {
   "cell_type": "code",
   "execution_count": 34,
   "id": "6a3abcdb-9086-465f-843c-352ed9a6ebe8",
   "metadata": {},
   "outputs": [
    {
     "name": "stdout",
     "output_type": "stream",
     "text": [
      "(array([0, 1, 4], dtype=int64),)\n"
     ]
    }
   ],
   "source": [
    "# Find indices of the non-zero elements in the array of [1,2,0,0,4,0]\n",
    "non_zero = np.nonzero((1,2,0,0,4,0))\n",
    "print(non_zero)"
   ]
  },
  {
   "cell_type": "code",
   "execution_count": 36,
   "id": "83b92868-d5cb-4df9-9277-63e2d3dbe79e",
   "metadata": {},
   "outputs": [
    {
     "data": {
      "text/plain": [
       "array([[1., 0., 0.],\n",
       "       [0., 1., 0.],\n",
       "       [0., 0., 1.]])"
      ]
     },
     "execution_count": 36,
     "metadata": {},
     "output_type": "execute_result"
    }
   ],
   "source": [
    "# Create a 3x3 identity matrix\n",
    "identity = np.eye(3,3)\n",
    "identity"
   ]
  },
  {
   "cell_type": "code",
   "execution_count": 40,
   "id": "50bb690f-c34a-4e9a-be33-7e6a87cf3030",
   "metadata": {},
   "outputs": [
    {
     "data": {
      "text/plain": [
       "array([[[0.07550151, 0.40361953, 0.91617577],\n",
       "        [0.17166292, 0.59550402, 0.20541874],\n",
       "        [0.66134451, 0.2155632 , 0.29508752]],\n",
       "\n",
       "       [[0.54831694, 0.46593179, 0.01910497],\n",
       "        [0.22687872, 0.22356515, 0.77815688],\n",
       "        [0.21750594, 0.81119445, 0.28451899]],\n",
       "\n",
       "       [[0.42333593, 0.97186322, 0.34931196],\n",
       "        [0.03391394, 0.68158137, 0.50774583],\n",
       "        [0.18935637, 0.87883696, 0.95605139]]])"
      ]
     },
     "execution_count": 40,
     "metadata": {},
     "output_type": "execute_result"
    }
   ],
   "source": [
    "# Create a 3x3x3 array with random values\n",
    "random_3x3x3 = np.random.random((3,3,3))\n",
    "random_3x3x3"
   ]
  },
  {
   "cell_type": "code",
   "execution_count": 46,
   "id": "d86e87d9-108a-4ff0-8ecb-c0c925f83fae",
   "metadata": {},
   "outputs": [
    {
     "name": "stdout",
     "output_type": "stream",
     "text": [
      "[[0.50289705 0.77203466 0.7303823  0.0967345  0.31382625 0.26765176\n",
      "  0.8530426  0.40220777 0.20968269 0.34725789]\n",
      " [0.12376593 0.26063846 0.37147751 0.63591458 0.17778149 0.34298982\n",
      "  0.49379696 0.13259922 0.56296402 0.04681655]\n",
      " [0.24904027 0.91622482 0.20458615 0.90088019 0.08196995 0.98739124\n",
      "  0.65566274 0.25809509 0.54151076 0.23207733]\n",
      " [0.35490518 0.84730067 0.29455609 0.73991231 0.58799873 0.89433695\n",
      "  0.06313744 0.53344569 0.10365004 0.4908905 ]\n",
      " [0.14719174 0.21686987 0.69507121 0.58615372 0.72147833 0.2346334\n",
      "  0.09553698 0.60442715 0.58671774 0.76144652]\n",
      " [0.20364911 0.87500273 0.37731232 0.56987607 0.41867703 0.23172177\n",
      "  0.38380082 0.46262678 0.03053242 0.13391208]\n",
      " [0.33325095 0.18408169 0.77416594 0.2399108  0.55819311 0.75608962\n",
      "  0.92605788 0.47998623 0.27322286 0.84320518]\n",
      " [0.60956883 0.35094981 0.79274648 0.87456306 0.96038961 0.06353781\n",
      "  0.59990929 0.59059574 0.94826567 0.07440526]\n",
      " [0.84275257 0.80755611 0.70265826 0.96071807 0.83392223 0.20622144\n",
      "  0.89454826 0.33336594 0.77690376 0.03004162]\n",
      " [0.00591225 0.39948135 0.96098972 0.24649088 0.08933631 0.9049535\n",
      "  0.8344528  0.59605869 0.40278821 0.60012264]]\n",
      "Min is: 0.005912251005297353\n",
      "Max is: 0.9873912417059092\n"
     ]
    }
   ],
   "source": [
    "# Create a 10x10 array with random values and find the minimum and maximum values\n",
    "random_10x10 = np.random.random((10,10))\n",
    "print(random_10x10)\n",
    "print(f\"Min is: {random_10x10.min()}\")\n",
    "print(f\"Max is: {random_10x10.max()}\")"
   ]
  },
  {
   "cell_type": "code",
   "execution_count": 54,
   "id": "1430ca3a-05d0-452e-a558-fd15a09d14a3",
   "metadata": {},
   "outputs": [
    {
     "name": "stdout",
     "output_type": "stream",
     "text": [
      "[0.82852296 0.22382348 0.09996607 0.03918299 0.00419493 0.06279608\n",
      " 0.89512356 0.88146946 0.16930676 0.22746364 0.86315589 0.79156533\n",
      " 0.30599014 0.10020121 0.2141214  0.4698811  0.20153004 0.43612314\n",
      " 0.62419654 0.18762001 0.37962649 0.58724603 0.01581094 0.75323551\n",
      " 0.02094807 0.9488206  0.32441354 0.92284451 0.62723952 0.76701832]\n",
      "Mean is: 0.4324479410804486\n"
     ]
    }
   ],
   "source": [
    "# Create a random vector of size 30 and find the mean value\n",
    "random_30 = np.random.random((30))\n",
    "print(random_30)\n",
    "print(f\"Mean is: {random_30.mean()}\")"
   ]
  },
  {
   "cell_type": "code",
   "execution_count": 60,
   "id": "9b673f78-4ae7-47f3-b7c8-8a7709273f62",
   "metadata": {},
   "outputs": [
    {
     "name": "stdout",
     "output_type": "stream",
     "text": [
      "[[0 0 0 0 0]\n",
      " [1 0 0 0 0]\n",
      " [0 2 0 0 0]\n",
      " [0 0 3 0 0]\n",
      " [0 0 0 4 0]]\n"
     ]
    }
   ],
   "source": [
    "# Create a 5x5 matrix with values 1,2,3,4 just below the diagonal\n",
    "values = [1, 2, 3, 4]\n",
    "matrix_5x5 = np.diag(values, k=-1)\n",
    "print(matrix_5x5)"
   ]
  },
  {
   "cell_type": "code",
   "execution_count": 64,
   "id": "322a9b1e-663d-45d6-99b2-26415af136e4",
   "metadata": {},
   "outputs": [
    {
     "name": "stdout",
     "output_type": "stream",
     "text": [
      "Original 5x5 Random Matrix:\n",
      "[[0.52742553 0.00126849 0.7604579  0.56145297 0.1254435 ]\n",
      " [0.32416536 0.93962266 0.59081725 0.44425254 0.92433145]\n",
      " [0.08172783 0.22319423 0.16451798 0.87071562 0.0405997 ]\n",
      " [0.06874059 0.31081439 0.69793    0.55347999 0.61156951]\n",
      " [0.83793666 0.95892665 0.90433389 0.9687112  0.14003799]]\n",
      "\n",
      "Normalized Matrix:\n",
      "[[ 0.06729522 -1.53294594  0.77603419  0.17078544 -1.1552831 ]\n",
      " [-0.55089528  1.3209415   0.26009325 -0.18566506  1.27443519]\n",
      " [-1.28823887 -0.8579864  -1.03644293  1.1113693  -1.41332496]\n",
      " [-1.32773796 -0.59150061  0.58586334  0.14653663  0.32320868]\n",
      " [ 1.01167619  1.37965218  1.2136151   1.40941067 -1.11089576]]\n"
     ]
    }
   ],
   "source": [
    "# Normalize a 5x5 random matrix using (x - mean)/std:\n",
    "\n",
    "# Create the 5x5 random matrix:\n",
    "random_5x5 = np.random.random((5,5))\n",
    "\n",
    "# Compute the mean and standard deviation of the matrix:\n",
    "mean = np.mean(random_5x5)\n",
    "std = np.std(random_5x5)\n",
    "\n",
    "# Normalize the matrix using (x - mean) / std:\n",
    "normalized_matrix = (random_5x5 - mean) / std\n",
    "\n",
    "# Print the original and normalized matrices\n",
    "print(\"Original 5x5 Random Matrix:\")\n",
    "print(random_5x5)\n",
    "print(\"\\nNormalized Matrix:\")\n",
    "print(normalized_matrix)"
   ]
  },
  {
   "cell_type": "code",
   "execution_count": 66,
   "id": "c5bf8191-f117-4009-8bb1-fd9d7c93b23d",
   "metadata": {},
   "outputs": [
    {
     "name": "stdout",
     "output_type": "stream",
     "text": [
      "Common values: [2 4]\n"
     ]
    }
   ],
   "source": [
    "# How to find common values between two arrays using np.intersect1d ?\n",
    "\n",
    "# Define two arrays\n",
    "array1 = np.array([1, 2, 3, 4, 5])\n",
    "array2 = np.array([2, 4, 6, 8, 10])\n",
    "\n",
    "# Find common values\n",
    "common_values = np.intersect1d(array1, array2)\n",
    "\n",
    "# Print the result\n",
    "print(\"Common values:\", common_values)"
   ]
  },
  {
   "cell_type": "code",
   "execution_count": 68,
   "id": "08305c39-0352-45ef-b464-40e0837bcbc3",
   "metadata": {},
   "outputs": [
    {
     "name": "stdout",
     "output_type": "stream",
     "text": [
      "Unsorted vector: [0.45995747 0.41193761 0.13998264 0.35237661 0.56967147 0.47776321\n",
      " 0.51141074 0.72852681 0.32168259 0.5220311 ]\n",
      "Sorted vector: [0.13998264 0.32168259 0.35237661 0.41193761 0.45995747 0.47776321\n",
      " 0.51141074 0.5220311  0.56967147 0.72852681]\n"
     ]
    }
   ],
   "source": [
    "#  Create a random vector of size 10 and sort it\n",
    "random_10 = np.random.random((10))\n",
    "print(f\"Unsorted vector: {random_10}\")\n",
    "random_10.sort()\n",
    "print(f\"Sorted vector: {random_10}\")"
   ]
  },
  {
   "cell_type": "code",
   "execution_count": 72,
   "id": "c8d41d05-36a5-4ac1-85f6-acdf9846a04c",
   "metadata": {},
   "outputs": [
    {
     "name": "stdout",
     "output_type": "stream",
     "text": [
      "Vector with max: [0.10833516 0.55247201 0.53982271 0.71271127 0.10520719 0.2850596\n",
      " 0.05429074 0.90455235 0.86458351 0.93022097]\n",
      "Vector with max replaced by 0: [0.10833516 0.55247201 0.53982271 0.71271127 0.10520719 0.2850596\n",
      " 0.05429074 0.90455235 0.86458351 0.        ]\n"
     ]
    }
   ],
   "source": [
    "# Create random vector of size 10 and replace the maximum value by 0\n",
    "random_10_to_0 = np.random.random((10))\n",
    "print(f\"Vector with max: {random_10_to_0}\")\n",
    "\n",
    "# Find the index of the maximum value\n",
    "max_index = random_10_to_0.argmax()\n",
    "# Replace the maximum value with 0\n",
    "random_10_to_0[max_index] = 0\n",
    "print(f\"Vector with max replaced by 0: {random_10_to_0}\")"
   ]
  },
  {
   "cell_type": "code",
   "execution_count": 74,
   "id": "a1416b02-ddf7-4db2-aa5e-514536cbc8ea",
   "metadata": {},
   "outputs": [
    {
     "name": "stdout",
     "output_type": "stream",
     "text": [
      "Original Matrix: [[0.17328515 0.82903434 0.80176876 0.75209289 0.00307593 0.88193473]\n",
      " [0.29706012 0.90040035 0.08312598 0.4594815  0.99673031 0.52987698]\n",
      " [0.49196566 0.14835491 0.07968763 0.69536753 0.42174645 0.70880117]\n",
      " [0.13667506 0.20762452 0.84593973 0.22283209 0.02875506 0.54784956]\n",
      " [0.00230956 0.87159829 0.11306195 0.54226767 0.37477311 0.22505076]\n",
      " [0.28254955 0.32123291 0.57706639 0.99613879 0.35688855 0.65358195]]\n",
      "\n",
      "Row-wise Mean: [[0.57353197]\n",
      " [0.54444587]\n",
      " [0.42432056]\n",
      " [0.33161267]\n",
      " [0.35484356]\n",
      " [0.53124302]]\n",
      "\n",
      "Matrix after Subtracting Row-wise Mean: [[-0.40024682  0.25550237  0.22823679  0.17856093 -0.57045604  0.30840277]\n",
      " [-0.24738575  0.35595448 -0.4613199  -0.08496437  0.45228443 -0.01456889]\n",
      " [ 0.0676451  -0.27596565 -0.34463293  0.27104697 -0.00257411  0.28448061]\n",
      " [-0.19493761 -0.12398815  0.51432706 -0.10878058 -0.30285761  0.21623689]\n",
      " [-0.352534    0.51675473 -0.2417816   0.18742411  0.01992955 -0.1297928 ]\n",
      " [-0.24869347 -0.21001011  0.04582337  0.46489577 -0.17435448  0.12233893]]\n"
     ]
    }
   ],
   "source": [
    "# Subtract the mean of each row of a matrix applying mean(axis=,keepdims=):\n",
    "\n",
    "# Create a random 6x6 matrix\n",
    "matrix_6x6 = np.random.random((6, 6))\n",
    "\n",
    "# Compute the mean of each row while keeping dimensions\n",
    "row_means = np.mean(matrix_6x6, axis=1, keepdims=True)\n",
    "\n",
    "# Subtract the row mean from each row\n",
    "normalized_matrix = matrix_6x6 - row_means\n",
    "\n",
    "# Print results\n",
    "print(f\"Original Matrix: {matrix_6x6}\")\n",
    "print(f\"\\nRow-wise Mean: {row_means}\")\n",
    "print(f\"\\nMatrix after Subtracting Row-wise Mean: {normalized_matrix}\")"
   ]
  },
  {
   "cell_type": "code",
   "execution_count": 82,
   "id": "50c208f3-a741-4f71-a9bb-89cfe714d70e",
   "metadata": {},
   "outputs": [
    {
     "name": "stdout",
     "output_type": "stream",
     "text": [
      "N largest values: [9999 9998 9997 9996 9995]\n"
     ]
    }
   ],
   "source": [
    "# How to get the n largest values of an array:\n",
    "\n",
    "# Create an array of 10000 elements\n",
    "Z = np.arange(10000)\n",
    "# Shuffle the array\n",
    "np.random.shuffle(Z)\n",
    "# Number of largest elements to find\n",
    "n = 5\n",
    "# Find indices of the n largest values using np.argpartition\n",
    "largest_indices = np.argpartition(Z, -n)[-n:]\n",
    "# Get the n largest values\n",
    "largest_values = Z[largest_indices]\n",
    "# Sort the n largest values in descending order\n",
    "largest_values_sorted = np.sort(largest_values)[::-1]\n",
    "# Alternative: largest_values_sorted = Z[np.argsort(Z)[-n:]][::-1]\n",
    "# Print results\n",
    "print(\"N largest values:\", largest_values_sorted)"
   ]
  },
  {
   "cell_type": "code",
   "execution_count": 80,
   "id": "83b95f47-7f76-42eb-bf74-312d9889ab61",
   "metadata": {},
   "outputs": [
    {
     "name": "stdout",
     "output_type": "stream",
     "text": [
      "Original Matrix: [[3.45644687 0.56253668 3.46276587]\n",
      " [3.03462252 6.48546147 4.62675821]\n",
      " [8.71466078 8.14981813 3.65381924]\n",
      " [5.38042264 8.29832816 8.52974128]\n",
      " [3.45252368 1.2824495  8.60566719]]\n",
      "Modified Matrix (values > 4 squared): [[ 3.45644687  0.56253668  3.46276587]\n",
      " [ 3.03462252 42.06121051 21.40689153]\n",
      " [75.94531247 66.41953562  3.65381924]\n",
      " [28.94894777 68.86225018 72.75648631]\n",
      " [ 3.45252368  1.2824495  74.05750787]]\n"
     ]
    }
   ],
   "source": [
    "# Create a random 5x3 matrix and replace items that are larger than 4 by their squares (Example: 6 --> 36) \n",
    "\n",
    "# Create a random 5x3 matrix with values ranging from 0 to 10\n",
    "matrix_5x3 = np.random.uniform(0, 10, (5, 3))\n",
    "print(f\"Original Matrix: {matrix_5x3}\")\n",
    "\n",
    "# Replace elements greater than 4 with their squares\n",
    "matrix_5x3 = np.where(matrix_5x3 > 4, matrix_5x3 ** 2, matrix_5x3)\n",
    "print(f\"Modified Matrix (values > 4 squared): {matrix_5x3}\")"
   ]
  },
  {
   "cell_type": "code",
   "execution_count": null,
   "id": "66457f17-9b73-45fc-85a8-e1d61618ea65",
   "metadata": {},
   "outputs": [],
   "source": []
  }
 ],
 "metadata": {
  "kernelspec": {
   "display_name": "Python [conda env:base] *",
   "language": "python",
   "name": "conda-base-py"
  },
  "language_info": {
   "codemirror_mode": {
    "name": "ipython",
    "version": 3
   },
   "file_extension": ".py",
   "mimetype": "text/x-python",
   "name": "python",
   "nbconvert_exporter": "python",
   "pygments_lexer": "ipython3",
   "version": "3.12.7"
  }
 },
 "nbformat": 4,
 "nbformat_minor": 5
}
